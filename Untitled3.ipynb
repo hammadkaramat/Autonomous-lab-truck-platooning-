{
  "cells": [
    {
      "cell_type": "markdown",
      "metadata": {
        "id": "view-in-github",
        "colab_type": "text"
      },
      "source": [
        "<a href=\"https://colab.research.google.com/github/hammadkaramat/Autonomous-lab-truck-platooning-/blob/main/Untitled3.ipynb\" target=\"_parent\"><img src=\"https://colab.research.google.com/assets/colab-badge.svg\" alt=\"Open In Colab\"/></a>"
      ]
    },
    {
      "cell_type": "code",
      "execution_count": null,
      "metadata": {
        "colab": {
          "background_save": true,
          "base_uri": "https://localhost:8080/"
        },
        "id": "5iHkhDQ0gAJT",
        "outputId": "a8b3acf2-795b-4557-ab81-e89f8bce3605"
      },
      "outputs": [
        {
          "name": "stdout",
          "output_type": "stream",
          "text": [
            "Platoon joining: Sending join_request!\n",
            "Platoon response: Received join_request!\n",
            "Platoon joining: Sending join_request!\n",
            "Platoon response: Received join_request!\n"
          ]
        }
      ],
      "source": [
        "import random\n",
        "import time\n",
        "\n",
        "class PlatoonJoining:\n",
        "    def __init__(self):\n",
        "        self.state = \"start_platooning\"\n",
        "        self.y = 0\n",
        "\n",
        "    def step(self):\n",
        "        if self.state == \"start_platooning\":\n",
        "            if self.y <= 20:\n",
        "                print(\"Platoon joining: Sending join_request!\")\n",
        "                self.y = 0\n",
        "                self.state = \"request_to_join\"\n",
        "        elif self.state == \"request_to_join\":\n",
        "            if True:  # Placeholder for receiving join_confirmed? (simulation limitation)\n",
        "                print(\"Platoon joining: Received join_confirmed!\")\n",
        "                self.state = \"join_platoon\"\n",
        "\n",
        "class PlatoonResponse:\n",
        "    def __init__(self):\n",
        "        self.state = \"await_request\"\n",
        "        self.y = 0\n",
        "\n",
        "    def step(self):\n",
        "        if self.state == \"await_request\":\n",
        "            if True:  # Placeholder for receiving join_request? (simulation limitation)\n",
        "                print(\"Platoon response: Received join_request!\")\n",
        "                self.y = 0\n",
        "                self.state = \"send_response\"\n",
        "        elif self.state == \"send_response\":\n",
        "            if self.y <= 10:\n",
        "                print(\"Platoon response: Sending join_confirmed!\")\n",
        "                self.state = \"join_complete\"\n",
        "\n",
        "def simulate():\n",
        "    platoon_joining = PlatoonJoining()\n",
        "    platoon_response = PlatoonResponse()\n",
        "    time.sleep(2)  # Delay for better output readability\n",
        "    platoon_joining.step()\n",
        "    platoon_response.step()\n",
        "\n",
        "while True:\n",
        "    user_input = input(\"Enter 1 to trigger the simulation: \")\n",
        "    if user_input == \"1\":\n",
        "        simulate()\n",
        "    else:\n",
        "        print(\"Invalid input. Please enter 1.\")\n"
      ]
    }
  ],
  "metadata": {
    "colab": {
      "provenance": [],
      "authorship_tag": "ABX9TyMqJO/fawN8ZF7FZBW2f0N4",
      "include_colab_link": true
    },
    "kernelspec": {
      "display_name": "Python 3",
      "name": "python3"
    },
    "language_info": {
      "name": "python"
    }
  },
  "nbformat": 4,
  "nbformat_minor": 0
}