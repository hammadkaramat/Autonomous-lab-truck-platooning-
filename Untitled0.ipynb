{
  "nbformat": 4,
  "nbformat_minor": 0,
  "metadata": {
    "colab": {
      "provenance": [],
      "authorship_tag": "ABX9TyPtMi64005G36pwplo58j9+",
      "include_colab_link": true
    },
    "kernelspec": {
      "name": "python3",
      "display_name": "Python 3"
    },
    "language_info": {
      "name": "python"
    }
  },
  "cells": [
    {
      "cell_type": "markdown",
      "metadata": {
        "id": "view-in-github",
        "colab_type": "text"
      },
      "source": [
        "<a href=\"https://colab.research.google.com/github/hammadkaramat/Autonomous-lab-truck-platooning-/blob/main/Untitled0.ipynb\" target=\"_parent\"><img src=\"https://colab.research.google.com/assets/colab-badge.svg\" alt=\"Open In Colab\"/></a>"
      ]
    },
    {
      "cell_type": "code",
      "execution_count": null,
      "metadata": {
        "colab": {
          "base_uri": "https://localhost:8080/"
        },
        "id": "LjtxaSAJWZWB",
        "outputId": "93bc473a-7667-4393-b822-38db604d1dd7"
      },
      "outputs": [
        {
          "output_type": "stream",
          "name": "stdout",
          "text": [
            "Requirement already satisfied: numpy in /usr/local/lib/python3.10/dist-packages (1.25.2)\n",
            "Requirement already satisfied: pandas in /usr/local/lib/python3.10/dist-packages (2.0.3)\n",
            "Requirement already satisfied: scikit-learn in /usr/local/lib/python3.10/dist-packages (1.2.2)\n",
            "Requirement already satisfied: matplotlib in /usr/local/lib/python3.10/dist-packages (3.7.1)\n",
            "Requirement already satisfied: scipy in /usr/local/lib/python3.10/dist-packages (1.11.4)\n",
            "Requirement already satisfied: python-dateutil>=2.8.2 in /usr/local/lib/python3.10/dist-packages (from pandas) (2.8.2)\n",
            "Requirement already satisfied: pytz>=2020.1 in /usr/local/lib/python3.10/dist-packages (from pandas) (2023.4)\n",
            "Requirement already satisfied: tzdata>=2022.1 in /usr/local/lib/python3.10/dist-packages (from pandas) (2024.1)\n",
            "Requirement already satisfied: joblib>=1.1.1 in /usr/local/lib/python3.10/dist-packages (from scikit-learn) (1.4.2)\n",
            "Requirement already satisfied: threadpoolctl>=2.0.0 in /usr/local/lib/python3.10/dist-packages (from scikit-learn) (3.5.0)\n",
            "Requirement already satisfied: contourpy>=1.0.1 in /usr/local/lib/python3.10/dist-packages (from matplotlib) (1.2.1)\n",
            "Requirement already satisfied: cycler>=0.10 in /usr/local/lib/python3.10/dist-packages (from matplotlib) (0.12.1)\n",
            "Requirement already satisfied: fonttools>=4.22.0 in /usr/local/lib/python3.10/dist-packages (from matplotlib) (4.53.0)\n",
            "Requirement already satisfied: kiwisolver>=1.0.1 in /usr/local/lib/python3.10/dist-packages (from matplotlib) (1.4.5)\n",
            "Requirement already satisfied: packaging>=20.0 in /usr/local/lib/python3.10/dist-packages (from matplotlib) (24.1)\n",
            "Requirement already satisfied: pillow>=6.2.0 in /usr/local/lib/python3.10/dist-packages (from matplotlib) (9.4.0)\n",
            "Requirement already satisfied: pyparsing>=2.3.1 in /usr/local/lib/python3.10/dist-packages (from matplotlib) (3.1.2)\n",
            "Requirement already satisfied: six>=1.5 in /usr/local/lib/python3.10/dist-packages (from python-dateutil>=2.8.2->pandas) (1.16.0)\n"
          ]
        }
      ],
      "source": [
        "pip install numpy pandas scikit-learn matplotlib scipy\n"
      ]
    },
    {
      "cell_type": "markdown",
      "source": [],
      "metadata": {
        "id": "ZFMDixW4Wm-I"
      }
    },
    {
      "cell_type": "code",
      "source": [
        "import numpy as np\n",
        "import pandas as pd\n",
        "from sklearn.preprocessing import StandardScaler\n",
        "from scipy.cluster.hierarchy import linkage, fcluster, dendrogram\n",
        "import matplotlib.pyplot as plt\n",
        "\n",
        "# Set seed for reproducibility\n",
        "np.random.seed(42)\n",
        "\n",
        "# Generate synthetic data for 4 trucks\n",
        "data = {\n",
        "    'fuel_consumption': np.random.uniform(20, 40, 4), # liters per 100 km\n",
        "    'size': np.random.uniform(10, 20, 4), # length in meters\n",
        "    'weight': np.random.uniform(10, 20, 4), # weight in tons\n",
        "    'engine_power': np.random.uniform(300, 600, 4), # horsepower\n",
        "    'aerodynamics': np.random.uniform(0.3, 0.5, 4), # drag coefficient\n",
        "    'distance_from_previous': np.random.uniform(10, 50, 4) # distance in meters\n",
        "}\n",
        "\n",
        "# Create a DataFrame\n",
        "trucks_df = pd.DataFrame(data)\n",
        "print(\"Synthetic Data:\\n\", trucks_df)\n",
        "\n",
        "# Normalize the data\n",
        "scaler = StandardScaler()\n",
        "normalized_data = scaler.fit_transform(trucks_df)\n",
        "print(\"\\nNormalized Data:\\n\", normalized_data)\n",
        "\n",
        "# Perform hierarchical clustering\n",
        "Z = linkage(normalized_data, method='ward')\n",
        "\n",
        "# Plot the dendrogram\n",
        "plt.figure(figsize=(10, 7))\n",
        "dendrogram(Z, labels=trucks_df.index, leaf_rotation=90, leaf_font_size=10)\n",
        "plt.title('Dendrogram for Hierarchical Clustering')\n",
        "plt.xlabel('Truck Index')\n",
        "plt.ylabel('Distance')\n",
        "plt.show()\n",
        "\n",
        "# Assign clusters\n",
        "clusters = fcluster(Z, t=1, criterion='maxclust')\n",
        "print(\"\\nCluster Assignments:\\n\", clusters)\n",
        "\n",
        "# Calculate the distance of each truck to the centroid of its cluster\n",
        "centroids = np.array([normalized_data[clusters == i].mean(axis=0) for i in np.unique(clusters)])\n",
        "distances = np.array([np.linalg.norm(normalized_data[i] - centroids[clusters[i] - 1]) for i in range(len(trucks_df))])\n",
        "print(\"\\nDistances to Cluster Centroid:\\n\", distances)\n",
        "\n",
        "# Determine the leader (the truck closest to its cluster's centroid)\n",
        "leader_index = np.argmin(distances)\n",
        "print(\"\\nLeader Truck Index:\", leader_index)\n",
        "\n",
        "# Get the leader truck\n",
        "leader_truck = trucks_df.iloc[leader_index]\n",
        "print(\"\\nLeader Truck:\\n\", leader_truck)\n"
      ],
      "metadata": {
        "id": "cooDfFYfYwt0",
        "outputId": "45a0b37e-67f1-4027-ab46-a2a3513093fa",
        "colab": {
          "base_uri": "https://localhost:8080/",
          "height": 1000
        }
      },
      "execution_count": null,
      "outputs": [
        {
          "output_type": "stream",
          "name": "stdout",
          "text": [
            "Synthetic Data:\n",
            "    fuel_consumption       size     weight  engine_power  aerodynamics  \\\n",
            "0         27.490802  11.560186  16.011150    549.732792      0.360848   \n",
            "1         39.014286  11.559945  17.080726    363.701733      0.404951   \n",
            "2         34.639879  10.580836  10.205845    354.547490      0.386389   \n",
            "3         31.973170  18.661761  19.699099    355.021353      0.358246   \n",
            "\n",
            "   distance_from_previous  \n",
            "0               34.474116  \n",
            "1               15.579754  \n",
            "2               21.685786  \n",
            "3               24.654474  \n",
            "\n",
            "Normalized Data:\n",
            " [[-1.38422726 -0.47219862  0.07548192  1.73038875 -0.87116274  1.5201087 ]\n",
            " [ 1.37131932 -0.47227303  0.38368991 -0.50535018  1.42121831 -1.24807138]\n",
            " [ 0.32529163 -0.77435418 -1.59736973 -0.61536675  0.45638641 -0.35348731]\n",
            " [-0.31238369  1.71882583  1.1381979  -0.60967182 -1.00644197  0.08144999]]\n"
          ]
        },
        {
          "output_type": "display_data",
          "data": {
            "text/plain": [
              "<Figure size 1000x700 with 1 Axes>"
            ],
            "image/png": "[encoded data removed]"
          },
          "metadata": {}
        },
        {
          "output_type": "stream",
          "name": "stdout",
          "text": [
            "\n",
            "Cluster Assignments:\n",
            " [1 1 1 1]\n",
            "\n",
            "Distances to Cluster Centroid:\n",
            " [2.86507493 2.46651554 1.99222167 2.3955583 ]\n",
            "\n",
            "Leader Truck Index: 2\n",
            "\n",
            "Leader Truck:\n",
            " fuel_consumption           34.639879\n",
            "size                       10.580836\n",
            "weight                     10.205845\n",
            "engine_power              354.547490\n",
            "aerodynamics                0.386389\n",
            "distance_from_previous     21.685786\n",
            "Name: 2, dtype: float64\n"
          ]
        }
      ]
    },
    {
      "cell_type": "code",
      "source": [],
      "metadata": {
        "id": "lXvgzZ5pf4_l"
      },
      "execution_count": null,
      "outputs": []
    }
  ]
}